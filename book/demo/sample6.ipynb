{
 "cells": [
  {
   "cell_type": "markdown",
   "id": "2e0c4513",
   "metadata": {},
   "source": [
    "HongJinHo\n",
    "=======================================\n",
    "\n",
    "### Preliminaries\n",
    "\n",
    "```bash\n",
    "!pip install git+https://github.com/ws-choi/LASAFT-Net-v2.git/ --quiet\n",
    "```"
   ]
  },
  {
   "cell_type": "code",
   "execution_count": 1,
   "id": "95c583f5",
   "metadata": {},
   "outputs": [],
   "source": [
    "import soundfile as sf\n",
    "import lasaft\n",
    "from IPython.display import display, Audio\n",
    "import warnings\n",
    "warnings.filterwarnings(\"ignore\", category=DeprecationWarning) "
   ]
  },
  {
   "cell_type": "markdown",
   "id": "c1205a66",
   "metadata": {},
   "source": [
    "### Sample 6: [HongJinHo](https://www.youtube.com/watch?v=7KgpnRnS3fk) - GUIN\n",
    "\n",
    "#### 1. Download the original"
   ]
  },
  {
   "cell_type": "code",
   "execution_count": 2,
   "id": "a18a6fbd",
   "metadata": {},
   "outputs": [],
   "source": [
    "!wget https://github.com/lasaft/lasaft.github.io/raw/master/audios/guin.wav --quiet\n",
    "mixture, _ = sf.read('guin.wav')"
   ]
  },
  {
   "cell_type": "markdown",
   "id": "da352d03",
   "metadata": {},
   "source": [
    "#### 2. Compare the results"
   ]
  },
  {
   "cell_type": "code",
   "execution_count": null,
   "id": "ccec0e5d",
   "metadata": {
    "scrolled": true
   },
   "outputs": [
    {
     "name": "stdout",
     "output_type": "stream",
     "text": [
      "checkpoint is loaded \n"
     ]
    },
    {
     "name": "stderr",
     "output_type": "stream",
     "text": [
      "/home/wschoi/exit/envs/tutorial-environment/lib/python3.9/site-packages/torch/functional.py:545: UserWarning: istft will require a complex-valued input tensor in a future PyTorch release. Matching the output from stft with return_complex=True.  (Triggered internally at  /pytorch/aten/src/ATen/native/SpectralOps.cpp:817.)\n",
      "  return _VF.istft(input, n_fft, hop_length, win_length, window, center,  # type: ignore[attr-defined]\n"
     ]
    }
   ],
   "source": [
    "from IPython.display import Audio, display\n",
    "from lasaft.pretrained import get_v2_large_709\n",
    "\n",
    "model = get_v2_large_709()\n",
    "result = model.separate_tracks(mixture, ['vocals', 'drums', 'bass', 'other'], batch_size=4)\n",
    "\n",
    "v1_url=\"https://github.com/lasaft/lasaft.github.io/raw/master/audios\"\n",
    "track=\"guin\"\n",
    "\n",
    "print('original')\n",
    "display(Audio(url=\"{}/{}.wav\".format(v1_url, track)))\n",
    "\n",
    "\n",
    "for source in [\"vocals\", \"drums\", \"bass\", \"other\"]:\n",
    "    print('{} (v1)'.format(source))\n",
    "    display(Audio(url=\"{}/{}-{}.wav\".format(v1_url, track, source)))\n",
    "    print('{} (v2)'.format(source))\n",
    "    display(Audio(result[source].T, rate=44100))"
   ]
  }
 ],
 "metadata": {
  "kernelspec": {
   "display_name": "Python 3 (ipykernel)",
   "language": "python",
   "name": "python3"
  },
  "language_info": {
   "codemirror_mode": {
    "name": "ipython",
    "version": 3
   },
   "file_extension": ".py",
   "mimetype": "text/x-python",
   "name": "python",
   "nbconvert_exporter": "python",
   "pygments_lexer": "ipython3",
   "version": "3.9.7"
  }
 },
 "nbformat": 4,
 "nbformat_minor": 5
}
