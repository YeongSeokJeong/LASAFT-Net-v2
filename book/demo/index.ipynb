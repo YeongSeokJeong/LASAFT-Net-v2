{
 "cells": [
  {
   "cell_type": "markdown",
   "id": "2e0c4513",
   "metadata": {},
   "source": [
    "Demonstration: V2_large\n",
    "=======================================\n",
    "\n",
    "Comparison with [LaSAFT-Net-v1](https://lasaft.github.io/) (a.k.a. LaSAFT+GPoCM)\n",
    "\n",
    "In this section, we provide audio samples extracted by using LASAFT-Net-v2. We use the same tracks used in the demonstartion of [LaSAFT-Net-v1](https://lasaft.github.io/). *LaSAFT-Net-v1* is our previous version, proposed in the paper \"Latent Source Attentive Frequency Transformation for Conditioned Source Separation\".\n",
    "\n",
    "**Official Github Repo** : [ws-choi/Conditioned-Source-Separation-LaSAFT](https://github.com/ws-choi/Conditioned-Source-Separation-LaSAFT)\n",
    "\n",
    "**Paper** : [arXiv](https://arxiv.org/abs/2010.11631)\n",
    "\n",
    "\n",
    "**Track Infomation**\n",
    "\n",
    "1. [Vanishing paycheck](https://youtu.be/EVGVJQtwxCY) - Stella Jang\n",
    "2. [Villain](https://youtu.be/ghpn99s8I-U) - Stella Jang\n",
    "3. [La Vie EN Rose](https://youtu.be/n-ozFN8tGKM) - Stella Jang\n",
    "4. [Feel this breeze](https://youtu.be/DjF17EglSt8) - (Prod. JoeSwan) - HyungWoo & Sunmin\n",
    "5. [Keep the Love Alive](https://www.youtube.com/watch?v=c6M1BKAH7eU) - Kyul, TM\n",
    "6. [HongJinHo](https://www.youtube.com/watch?v=7KgpnRnS3fk) - GUIN\n",
    "7. [두근대](https://www.youtube.com/watch?v=55-bC44AN0Y) - Sllo\n",
    "8. [Ms. Seductive - Jeff Bernat (cover)](https://soundcloud.com/choi-hn/ms-seductive) - Woosung Choi\n",
    "9. [Footprints](https://soundcloud.com/choi-hn/2-2u) - Woosung Choi\n",
    "10. [Rain](https://soundcloud.com/choi-hn/piano) - Woosung Choi\n"
   ]
  },
  {
   "cell_type": "markdown",
   "id": "bcb7de6d",
   "metadata": {},
   "source": [
    "### Preliminaries\n",
    "\n",
    "```bash\n",
    "!pip install git+https://github.com/ws-choi/LASAFT-Net-v2.git/ --quiet\n",
    "```"
   ]
  }
 ],
 "metadata": {
  "kernelspec": {
   "display_name": "Python 3 (ipykernel)",
   "language": "python",
   "name": "python3"
  },
  "language_info": {
   "codemirror_mode": {
    "name": "ipython",
    "version": 3
   },
   "file_extension": ".py",
   "mimetype": "text/x-python",
   "name": "python",
   "nbconvert_exporter": "python",
   "pygments_lexer": "ipython3",
   "version": "3.9.7"
  }
 },
 "nbformat": 4,
 "nbformat_minor": 5
}
